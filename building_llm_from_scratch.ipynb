{
  "nbformat": 4,
  "nbformat_minor": 0,
  "metadata": {
    "colab": {
      "provenance": [],
      "cell_execution_strategy": "setup",
      "authorship_tag": "ABX9TyNhKiCJQ8krhgCo8gp2WlKl",
      "include_colab_link": true
    },
    "kernelspec": {
      "name": "python3",
      "display_name": "Python 3"
    },
    "language_info": {
      "name": "python"
    }
  },
  "cells": [
    {
      "cell_type": "markdown",
      "metadata": {
        "id": "view-in-github",
        "colab_type": "text"
      },
      "source": [
        "<a href=\"https://colab.research.google.com/github/mjayashri/llm_from_scratch/blob/main/building_llm_from_scratch.ipynb\" target=\"_parent\"><img src=\"https://colab.research.google.com/assets/colab-badge.svg\" alt=\"Open In Colab\"/></a>"
      ]
    },
    {
      "cell_type": "code",
      "execution_count": 9,
      "metadata": {
        "id": "kFQXsnuuz1H1"
      },
      "outputs": [],
      "source": [
        "!pip install -q ipdb\n",
        "!pip install -q tqdm\n",
        "!pip install -q sentencepiece\n",
        "!pip install -q wandb"
      ]
    },
    {
      "cell_type": "code",
      "source": [
        "import os, sys\n",
        "import ipdb\n",
        "from tqdm import tqdm\n",
        "from datetime import datetime\n",
        "import platform, shutil\n",
        "import requests, zipfile, io\n",
        "\n",
        "#pytorch\n",
        "import torch\n",
        "import torch.nn as nn\n",
        "from torch.nn import functional as F\n",
        "\n",
        "#tokenizer\n",
        "import sentencepiece as spm\n",
        "\n",
        "torch.backends.cuda.matmul.allow_tf32 = True\n",
        "torch.backends.cudnn.allow_tf32 = True\n",
        "\n",
        "torch.cuda.empty_cache()"
      ],
      "metadata": {
        "id": "M2-8X060z9jX"
      },
      "execution_count": 10,
      "outputs": []
    },
    {
      "cell_type": "code",
      "source": [
        "files_url = \"https://ideami.com/llm_train\"\n",
        "print(\"Downloading files...\")\n",
        "\n",
        "response = requests.get(files_url)\n",
        "zip_file = zipfile.ZipFile(io.BytesIO(response.content))\n",
        "zip_file.extractall(\".\")\n",
        "print(\"Done!\")"
      ],
      "metadata": {
        "colab": {
          "base_uri": "https://localhost:8080/"
        },
        "id": "jZYhS9be1CHv",
        "outputId": "7612c6c3-4086-42db-94bd-91784487f1f6"
      },
      "execution_count": 11,
      "outputs": [
        {
          "output_type": "stream",
          "name": "stdout",
          "text": [
            "Downloading files...\n",
            "Done!\n"
          ]
        }
      ]
    },
    {
      "cell_type": "code",
      "source": [
        "# Architecture parameters\n",
        "batch_size = 128\n",
        "context = 512\n",
        "embed_size = 384\n",
        "\n",
        "n_layers = 7\n",
        "n_heads = 7\n",
        "BIAS = True\n",
        "\n",
        "# Hyperparameters\n",
        "lr = 3e-4\n",
        "dropout = 0.05\n",
        "weight_decay = 0.01\n",
        "grad_clip = 1.0\n",
        "\n",
        "# Training parameters\n",
        "train_iters = 100000\n",
        "eval_interval = 50\n",
        "eval_iters = 10\n",
        "compile = False\n",
        "checkpoint_dir = \"models\"\n",
        "checkpoint_fn = \"latest.pt\"\n",
        "checkpoint_load_fn = \"latest.pt\"\n",
        "dtype = torch.bfloat16\n",
        "\n",
        "#mode\n",
        "\n",
        "inference = False\n",
        "\n",
        "#Device\n",
        "\n",
        "device = \"cuda\" if torch.cuda.is_available() else \"cpu\"\n",
        "print(f\"device : You will be running {device}\")\n"
      ],
      "metadata": {
        "colab": {
          "base_uri": "https://localhost:8080/"
        },
        "id": "Ng9Hw8m8EOyT",
        "outputId": "a6e59869-700e-49df-ab63-3f5cc1ffe05d"
      },
      "execution_count": 12,
      "outputs": [
        {
          "output_type": "stream",
          "name": "stdout",
          "text": [
            "device : You will be running cpu\n"
          ]
        }
      ]
    },
    {
      "cell_type": "code",
      "source": [
        "# Logging\n",
        "\n",
        "wandb_log = True\n",
        "wandb_project = \"llm1\"\n",
        "\n",
        "wandb_run_name = \"llm1-\"+datetime.now().strftime(\"%Y%m%d-%H%M%S\")\n",
        "print(f\"wandb_run_name : {wandb_run_name}\")\n",
        "\n",
        "if wandb_log:\n",
        "    import wandb\n",
        "    # wandb.login()\n",
        "    wandb.init(project=wandb_project, name=wandb_run_name)\n"
      ],
      "metadata": {
        "colab": {
          "base_uri": "https://localhost:8080/",
          "height": 225
        },
        "id": "ASZ8oxhtZAyz",
        "outputId": "0c2743bd-2f91-49b2-8b8b-7abdb780c612"
      },
      "execution_count": 14,
      "outputs": [
        {
          "output_type": "stream",
          "name": "stdout",
          "text": [
            "wandb_run_name : llm1-20241117-184842\n"
          ]
        },
        {
          "output_type": "display_data",
          "data": {
            "text/plain": [
              "<IPython.core.display.HTML object>"
            ],
            "text/html": [
              "Finishing last run (ID:3fvunfzs) before initializing another..."
            ]
          },
          "metadata": {}
        },
        {
          "output_type": "display_data",
          "data": {
            "text/plain": [
              "<IPython.core.display.HTML object>"
            ],
            "text/html": [
              " View run <strong style=\"color:#cdcd00\">llm1-20241117-184121</strong> at: <a href='https://wandb.ai/jayashri1394-freelance/llm1/runs/3fvunfzs' target=\"_blank\">https://wandb.ai/jayashri1394-freelance/llm1/runs/3fvunfzs</a><br/> View project at: <a href='https://wandb.ai/jayashri1394-freelance/llm1' target=\"_blank\">https://wandb.ai/jayashri1394-freelance/llm1</a><br/>Synced 5 W&B file(s), 0 media file(s), 0 artifact file(s) and 0 other file(s)"
            ]
          },
          "metadata": {}
        },
        {
          "output_type": "display_data",
          "data": {
            "text/plain": [
              "<IPython.core.display.HTML object>"
            ],
            "text/html": [
              "Find logs at: <code>./wandb/run-20241117_184633-3fvunfzs/logs</code>"
            ]
          },
          "metadata": {}
        },
        {
          "output_type": "display_data",
          "data": {
            "text/plain": [
              "<IPython.core.display.HTML object>"
            ],
            "text/html": [
              "Successfully finished last run (ID:3fvunfzs). Initializing new run:<br/>"
            ]
          },
          "metadata": {}
        },
        {
          "output_type": "display_data",
          "data": {
            "text/plain": [
              "<IPython.core.display.HTML object>"
            ],
            "text/html": [
              "Tracking run with wandb version 0.18.6"
            ]
          },
          "metadata": {}
        },
        {
          "output_type": "display_data",
          "data": {
            "text/plain": [
              "<IPython.core.display.HTML object>"
            ],
            "text/html": [
              "Run data is saved locally in <code>/content/wandb/run-20241117_184842-02xz4bn8</code>"
            ]
          },
          "metadata": {}
        },
        {
          "output_type": "display_data",
          "data": {
            "text/plain": [
              "<IPython.core.display.HTML object>"
            ],
            "text/html": [
              "Syncing run <strong><a href='https://wandb.ai/jayashri1394-freelance/llm1/runs/02xz4bn8' target=\"_blank\">llm1-20241117-184842</a></strong> to <a href='https://wandb.ai/jayashri1394-freelance/llm1' target=\"_blank\">Weights & Biases</a> (<a href='https://wandb.me/developer-guide' target=\"_blank\">docs</a>)<br/>"
            ]
          },
          "metadata": {}
        },
        {
          "output_type": "display_data",
          "data": {
            "text/plain": [
              "<IPython.core.display.HTML object>"
            ],
            "text/html": [
              " View project at <a href='https://wandb.ai/jayashri1394-freelance/llm1' target=\"_blank\">https://wandb.ai/jayashri1394-freelance/llm1</a>"
            ]
          },
          "metadata": {}
        },
        {
          "output_type": "display_data",
          "data": {
            "text/plain": [
              "<IPython.core.display.HTML object>"
            ],
            "text/html": [
              " View run at <a href='https://wandb.ai/jayashri1394-freelance/llm1/runs/02xz4bn8' target=\"_blank\">https://wandb.ai/jayashri1394-freelance/llm1/runs/02xz4bn8</a>"
            ]
          },
          "metadata": {}
        }
      ]
    },
    {
      "cell_type": "code",
      "source": [
        "with open(\"wiki.txt\", 'r', encoding='utf-8') as f:\n",
        "    text = f.read()\n",
        "\n",
        "print(text[5000:5300])"
      ],
      "metadata": {
        "colab": {
          "base_uri": "https://localhost:8080/"
        },
        "id": "PAKZ6T0wdKs-",
        "outputId": "f90fd92d-c137-4552-cb60-c1c97159cec1"
      },
      "execution_count": 17,
      "outputs": [
        {
          "output_type": "stream",
          "name": "stdout",
          "text": [
            "tely before leap years, October of the following year. In years immediately before common years, August finishes on the same day of the week as May of the following year, and in years immediately before leap years, February and October of the following year.\n",
            "\n",
            "\n",
            "\n",
            "\n",
            "Art\n",
            "\n",
            "Art is a creative activity. It p\n"
          ]
        }
      ]
    },
    {
      "cell_type": "code",
      "source": [
        "from ast import mod\n",
        "# tokenizer\n",
        "\n",
        "sp = spm.SentencePieceProcessor(model_file='wiki_tokenizer.model')\n",
        "vocab_size = sp.get_piece_size()\n",
        "print('vocab size:', vocab_size)"
      ],
      "metadata": {
        "colab": {
          "base_uri": "https://localhost:8080/"
        },
        "id": "qsNiftXOde_o",
        "outputId": "901a6026-4c44-49de-8381-bcca99d6f602"
      },
      "execution_count": 18,
      "outputs": [
        {
          "output_type": "stream",
          "name": "stdout",
          "text": [
            "vocab size: 4096\n"
          ]
        }
      ]
    },
    {
      "cell_type": "code",
      "source": [
        "encode = lambda s: sp.Encode(s)\n",
        "decode = lambda l: sp.Decode(l)\n",
        "\n",
        "print(encode(\"hello world\"))\n",
        "print(decode(encode(\"hello world\")))"
      ],
      "metadata": {
        "colab": {
          "base_uri": "https://localhost:8080/"
        },
        "id": "2eqEytvPeATv",
        "outputId": "f1c614c1-c887-48a0-d548-d17bcb5dc11a"
      },
      "execution_count": 19,
      "outputs": [
        {
          "output_type": "stream",
          "name": "stdout",
          "text": [
            "[385, 840, 4037, 969]\n",
            "hello world\n"
          ]
        }
      ]
    },
    {
      "cell_type": "code",
      "source": [
        "if os.path.exists(\"encoded_data.pt\"):\n",
        "  print(\"Loading encoded data...\")\n",
        "  data = torch.load(\"encoded_data.pt\")\n",
        "  print(\"Done!\")\n",
        "else:\n",
        "  print(\"Encoding data...\")\n",
        "  data = torch.tensor(encode(text), dtype=torch.long)\n",
        "  torch.save(data, \"encoded_data.pt\")\n",
        "  print(\"Done!\")"
      ],
      "metadata": {
        "colab": {
          "base_uri": "https://localhost:8080/"
        },
        "id": "cOpvJH0RfE7k",
        "outputId": "709783bb-5458-4386-e923-245ff53fe278"
      },
      "execution_count": 20,
      "outputs": [
        {
          "output_type": "stream",
          "name": "stdout",
          "text": [
            "Loading encoded data...\n"
          ]
        },
        {
          "output_type": "stream",
          "name": "stderr",
          "text": [
            "<ipython-input-20-d7a22881af3a>:3: FutureWarning: You are using `torch.load` with `weights_only=False` (the current default value), which uses the default pickle module implicitly. It is possible to construct malicious pickle data which will execute arbitrary code during unpickling (See https://github.com/pytorch/pytorch/blob/main/SECURITY.md#untrusted-models for more details). In a future release, the default value for `weights_only` will be flipped to `True`. This limits the functions that could be executed during unpickling. Arbitrary objects will no longer be allowed to be loaded via this mode unless they are explicitly allowlisted by the user via `torch.serialization.add_safe_globals`. We recommend you start setting `weights_only=True` for any use case where you don't have full control of the loaded file. Please open an issue on GitHub for any issues related to this experimental feature.\n",
            "  data = torch.load(\"encoded_data.pt\")\n"
          ]
        },
        {
          "output_type": "stream",
          "name": "stdout",
          "text": [
            "Done!\n"
          ]
        }
      ]
    },
    {
      "cell_type": "code",
      "source": [],
      "metadata": {
        "id": "VoPG0DaTfXwC"
      },
      "execution_count": null,
      "outputs": []
    }
  ]
}