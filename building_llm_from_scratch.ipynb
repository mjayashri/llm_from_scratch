{
  "nbformat": 4,
  "nbformat_minor": 0,
  "metadata": {
    "colab": {
      "provenance": [],
      "cell_execution_strategy": "setup",
      "authorship_tag": "ABX9TyOfCVz0ar5lN4CA9k9wY/y1",
      "include_colab_link": true
    },
    "kernelspec": {
      "name": "python3",
      "display_name": "Python 3"
    },
    "language_info": {
      "name": "python"
    }
  },
  "cells": [
    {
      "cell_type": "markdown",
      "metadata": {
        "id": "view-in-github",
        "colab_type": "text"
      },
      "source": [
        "<a href=\"https://colab.research.google.com/github/mjayashri/llm_from_scratch/blob/main/building_llm_from_scratch.ipynb\" target=\"_parent\"><img src=\"https://colab.research.google.com/assets/colab-badge.svg\" alt=\"Open In Colab\"/></a>"
      ]
    },
    {
      "cell_type": "code",
      "execution_count": 9,
      "metadata": {
        "id": "kFQXsnuuz1H1"
      },
      "outputs": [],
      "source": [
        "!pip install -q ipdb\n",
        "!pip install -q tqdm\n",
        "!pip install -q sentencepiece\n",
        "!pip install -q wandb"
      ]
    },
    {
      "cell_type": "code",
      "source": [
        "import os, sys\n",
        "import ipdb\n",
        "from tqdm import tqdm\n",
        "from datetime import datetime\n",
        "import platform, shutil\n",
        "import requests, zipfile, io\n",
        "\n",
        "#pytorch\n",
        "import torch\n",
        "import torch.nn as nn\n",
        "from torch.nn import functional as F\n",
        "\n",
        "#tokenizer\n",
        "import sentencepiece as spm\n",
        "\n",
        "torch.backends.cuda.matmul.allow_tf32 = True\n",
        "torch.backends.cudnn.allow_tf32 = True\n",
        "\n",
        "torch.cuda.empty_cache()"
      ],
      "metadata": {
        "id": "M2-8X060z9jX"
      },
      "execution_count": 10,
      "outputs": []
    },
    {
      "cell_type": "code",
      "source": [
        "files_url = \"https://ideami.com/llm_train\"\n",
        "print(\"Downloading files...\")\n",
        "\n",
        "response = requests.get(files_url)\n",
        "zip_file = zipfile.ZipFile(io.BytesIO(response.content))\n",
        "zip_file.extractall(\".\")\n",
        "print(\"Done!\")"
      ],
      "metadata": {
        "colab": {
          "base_uri": "https://localhost:8080/"
        },
        "id": "jZYhS9be1CHv",
        "outputId": "7612c6c3-4086-42db-94bd-91784487f1f6"
      },
      "execution_count": 11,
      "outputs": [
        {
          "output_type": "stream",
          "name": "stdout",
          "text": [
            "Downloading files...\n",
            "Done!\n"
          ]
        }
      ]
    },
    {
      "cell_type": "code",
      "source": [
        "# Architecture parameters\n",
        "batch_size = 128\n",
        "context = 512\n",
        "embed_size = 384\n",
        "\n",
        "n_layers = 7\n",
        "n_heads = 7\n",
        "BIAS = True\n",
        "\n",
        "# Hyperparameters\n",
        "lr = 3e-4\n",
        "dropout = 0.05\n",
        "weight_decay = 0.01\n",
        "grad_clip = 1.0\n",
        "\n",
        "# Training parameters\n",
        "train_iters = 100000\n",
        "eval_interval = 50\n",
        "eval_iters = 10\n"
      ],
      "metadata": {
        "id": "Ng9Hw8m8EOyT"
      },
      "execution_count": null,
      "outputs": []
    }
  ]
}